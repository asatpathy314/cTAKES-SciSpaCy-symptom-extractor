{
 "cells": [
  {
   "cell_type": "markdown",
   "metadata": {},
   "source": [
    "This file represents the scripts used to extract data."
   ]
  },
  {
   "cell_type": "code",
   "execution_count": 1,
   "metadata": {},
   "outputs": [],
   "source": [
    "from symptom_extractor_scispacy import SciSpacyExtractor\n",
    "from scispacy.linking import EntityLinker\n",
    "from dataloader import DataLoader\n",
    "import os\n",
    "\n",
    "TREATMENT_TYPES = [\n",
    "    \"T200\",\n",
    "    \"T195\",\n",
    "    \"T127\",\n",
    "    \"T121\",\n",
    "    \"T061\",\n",
    "    \"T059\",\n",
    "    \"T060\"\n",
    "]\n",
    "\n",
    "SYMPTOM_TYPES = [\n",
    "    \"T047\",\n",
    "    \"T191\",\n",
    "    \"T190\",\n",
    "    \"T184\",\n",
    "    \"T033\",\n",
    "    \"T046\",\n",
    "    \"T048\",\n",
    "    \"T019\",\n",
    "    \"T037\",\n",
    "    \"T121\"\n",
    "]"
   ]
  },
  {
   "cell_type": "markdown",
   "metadata": {},
   "source": [
    "Example usage of testing entity extraction with type filtering."
   ]
  },
  {
   "cell_type": "code",
   "execution_count": 9,
   "metadata": {},
   "outputs": [
    {
     "name": "stderr",
     "output_type": "stream",
     "text": [
      "/Users/as314159265/Code/repos/link-lab/cTAKES-SciSpaCy-symptom-extractor/.conda/lib/python3.9/site-packages/sklearn/base.py:376: InconsistentVersionWarning: Trying to unpickle estimator TfidfTransformer from version 1.1.2 when using version 1.4.1.post1. This might lead to breaking code or invalid results. Use at your own risk. For more info please refer to:\n",
      "https://scikit-learn.org/stable/model_persistence.html#security-maintainability-limitations\n",
      "  warnings.warn(\n",
      "/Users/as314159265/Code/repos/link-lab/cTAKES-SciSpaCy-symptom-extractor/.conda/lib/python3.9/site-packages/sklearn/base.py:376: InconsistentVersionWarning: Trying to unpickle estimator TfidfVectorizer from version 1.1.2 when using version 1.4.1.post1. This might lead to breaking code or invalid results. Use at your own risk. For more info please refer to:\n",
      "https://scikit-learn.org/stable/model_persistence.html#security-maintainability-limitations\n",
      "  warnings.warn(\n",
      "/Users/as314159265/Code/repos/link-lab/cTAKES-SciSpaCy-symptom-extractor/.conda/lib/python3.9/site-packages/torch/amp/autocast_mode.py:250: UserWarning: User provided device_type of 'cuda', but CUDA is not available. Disabling\n",
      "  warnings.warn(\n"
     ]
    }
   ],
   "source": [
    "list_of_models = [\"en_core_sci_sm\", \"en_core_sci_scibert\", \"en_ner_craft_md\", \"en_ner_bc5cdr_md\"]\n",
    "for model_name in list_of_models:\n",
    "    model = SciSpacyExtractor(model_name)\n",
    "    \n",
    "    if model_name.split(\"_\")[-1] == \"md\":\n",
    "        suffix = model_name.split(\"_\")[-2]\n",
    "    else:\n",
    "        suffix = model_name.split(\"_\")[-1]\n",
    "\n",
    "    model.initalize_umls_pipeline()\n",
    "    data = DataLoader()\n",
    "    list_of_sources = [\"Mayoclinic\", \"ODEMSA\", \"Wikipedia\"]\n",
    "    for source in list_of_sources:\n",
    "        json_object = data.return_json_object(\"Data/\" + source + \"/disease_symptom_content.json\")\n",
    "        model.return_as_json_filter(json_object=json_object,\n",
    "                                    types=SYMPTOM_TYPES,\n",
    "                                    file_to_write=\"KB_Treatment_Results/ScispaCy_symptoms/ScispaCy_\" + suffix + \"/\" + source + \"/disease_treatment_analysis.json\")\n",
    "        \n",
    "        json_object = data.return_json_object(\"Data/\" + source + \"/disease_treatment_content.json\")\n",
    "        model.return_as_json_filter(json_object=json_object,\n",
    "                                    types=TREATMENT_TYPES,\n",
    "                                    file_to_write=\"KB_Treatment_Results/ScispaCy_treatment/ScispaCy_\" + suffix + \"/\" + source + \"/disease_treatment_analysis.json\")\n"
   ]
  },
  {
   "cell_type": "markdown",
   "metadata": {},
   "source": [
    "Example usage of converting raw cTAKES output into parseable json files."
   ]
  },
  {
   "cell_type": "code",
   "execution_count": 6,
   "metadata": {},
   "outputs": [
    {
     "ename": "FileNotFoundError",
     "evalue": "[Errno 2] No such file or directory: 'KB_Treatment_Results/raw/cTAKES_treatment'",
     "output_type": "error",
     "traceback": [
      "\u001b[0;31m---------------------------------------------------------------------------\u001b[0m",
      "\u001b[0;31mFileNotFoundError\u001b[0m                         Traceback (most recent call last)",
      "Cell \u001b[0;32mIn[6], line 2\u001b[0m\n\u001b[1;32m      1\u001b[0m data \u001b[38;5;241m=\u001b[39m DataLoader()\n\u001b[0;32m----> 2\u001b[0m \u001b[38;5;28;01mfor\u001b[39;00m directory \u001b[38;5;129;01min\u001b[39;00m \u001b[43mos\u001b[49m\u001b[38;5;241;43m.\u001b[39;49m\u001b[43mscandir\u001b[49m\u001b[43m(\u001b[49m\u001b[38;5;124;43m\"\u001b[39;49m\u001b[38;5;124;43mKB_Treatment_Results/raw/cTAKES_treatment\u001b[39;49m\u001b[38;5;124;43m\"\u001b[39;49m\u001b[43m)\u001b[49m:\n\u001b[1;32m      3\u001b[0m     data\u001b[38;5;241m.\u001b[39mctakes_to_json_filtered(input_dir\u001b[38;5;241m=\u001b[39mdirectory\u001b[38;5;241m.\u001b[39mpath, output_file\u001b[38;5;241m=\u001b[39m\u001b[38;5;124m\"\u001b[39m\u001b[38;5;124mKB_Treatment_Results/cTAKES_treatment/\u001b[39m\u001b[38;5;124m\"\u001b[39m \u001b[38;5;241m+\u001b[39m directory\u001b[38;5;241m.\u001b[39mname \u001b[38;5;241m+\u001b[39m \u001b[38;5;124m\"\u001b[39m\u001b[38;5;124m/disease_symptom_analysis.json\u001b[39m\u001b[38;5;124m\"\u001b[39m, types\u001b[38;5;241m=\u001b[39mTREATMENT_TYPES)\n",
      "\u001b[0;31mFileNotFoundError\u001b[0m: [Errno 2] No such file or directory: 'KB_Treatment_Results/raw/cTAKES_treatment'"
     ]
    }
   ],
   "source": [
    "data = DataLoader()\n",
    "for directory in os.scandir(\"KB_Treatment_Results/raw/cTAKES_treatment\"):\n",
    "    data.ctakes_to_json_filtered(input_dir=directory.path, output_file=\"KB_Treatment_Results/cTAKES_treatment/\" + directory.name + \"/disease_symptom_analysis.json\", types=TREATMENT_TYPES)"
   ]
  }
 ],
 "metadata": {
  "kernelspec": {
   "display_name": "Python 3",
   "language": "python",
   "name": "python3"
  },
  "language_info": {
   "codemirror_mode": {
    "name": "ipython",
    "version": 3
   },
   "file_extension": ".py",
   "mimetype": "text/x-python",
   "name": "python",
   "nbconvert_exporter": "python",
   "pygments_lexer": "ipython3",
   "version": "3.9.19"
  }
 },
 "nbformat": 4,
 "nbformat_minor": 2
}
